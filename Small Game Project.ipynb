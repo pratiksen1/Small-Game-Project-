{
 "cells": [
  {
   "cell_type": "code",
   "execution_count": 14,
   "id": "95a66c84",
   "metadata": {},
   "outputs": [
    {
     "name": "stdout",
     "output_type": "stream",
     "text": [
      "Computer Turn: Rock(r) Paper(p) or Scissors(s)?\n",
      "Your Turn: Rock(r) Paper(p) or Scissors(s)?s\n",
      "Computer chose r\n",
      "You chose s\n",
      "Alas! You have lost the game! Better luck next time.\n"
     ]
    }
   ],
   "source": [
    "#Import Random module for generating the random choices of Computer turns.\n",
    "import random\n",
    "\n",
    "# Rock Paper Scissors Game\n",
    "def gameWin(computer, you):\n",
    "    \n",
    "    # If two values are equal, then declare a tie!\n",
    "    if computer == you:\n",
    "        return None\n",
    "\n",
    "    \n",
    "    # Check for all possibilities when computer chooses Rock(r)\n",
    "    elif computer == 'r':\n",
    "        if you=='s':\n",
    "            return False\n",
    "        elif you=='p':\n",
    "            return True\n",
    "    \n",
    "    \n",
    "    # Check for all the possibilities when computer chooses Paper(p)\n",
    "    elif computer == 'p':\n",
    "        if you=='r':\n",
    "            return False\n",
    "        elif you=='s':\n",
    "            return True\n",
    "    \n",
    "    \n",
    "    # Check for all the possibilities when computer chooses Scissors(s)\n",
    "    elif computer == 's':\n",
    "        if you=='p':\n",
    "            return False\n",
    "        elif you=='s':\n",
    "            return True\n",
    "\n",
    "        \n",
    "print(\"Computer Turn: Rock(r) Paper(p) or Scissors(s)?\")\n",
    "randNo = random.randint(1, 3) \n",
    "if randNo == 1:\n",
    "    computer = 'r'\n",
    "elif randNo == 2:\n",
    "    computer = 'p'\n",
    "elif randNo == 3:\n",
    "    computer = 's'\n",
    "\n",
    "    \n",
    "you = input(\"Your Turn: Rock(r) Paper(p) or Scissors(s)?\")\n",
    "a = gameWin(computer, you)\n",
    "\n",
    "print(f\"Computer chose {computer}\")\n",
    "print(f\"You chose {you}\")\n",
    "\n",
    "if a == None:\n",
    "    print(\"The game is a draw!\")\n",
    "elif a:\n",
    "    print(\"Hurrah! You have won the game!\")\n",
    "else:\n",
    "    print(\"Alas! You have lost the game! Better luck next time.\")"
   ]
  },
  {
   "cell_type": "code",
   "execution_count": null,
   "id": "31f4ea62",
   "metadata": {},
   "outputs": [],
   "source": []
  },
  {
   "cell_type": "code",
   "execution_count": null,
   "id": "b4634243",
   "metadata": {},
   "outputs": [],
   "source": []
  }
 ],
 "metadata": {
  "kernelspec": {
   "display_name": "Python 3 (ipykernel)",
   "language": "python",
   "name": "python3"
  },
  "language_info": {
   "codemirror_mode": {
    "name": "ipython",
    "version": 3
   },
   "file_extension": ".py",
   "mimetype": "text/x-python",
   "name": "python",
   "nbconvert_exporter": "python",
   "pygments_lexer": "ipython3",
   "version": "3.11.3"
  }
 },
 "nbformat": 4,
 "nbformat_minor": 5
}
